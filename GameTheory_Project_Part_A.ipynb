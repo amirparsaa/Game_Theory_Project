{
  "nbformat": 4,
  "nbformat_minor": 0,
  "metadata": {
    "colab": {
      "provenance": []
    },
    "kernelspec": {
      "name": "python3",
      "display_name": "Python 3"
    },
    "language_info": {
      "name": "python"
    }
  },
  "cells": [
    {
      "cell_type": "code",
      "source": [
        "# === Imports and Constants ===\n",
        "import numpy as np\n",
        "from scipy.spatial.distance import cdist\n",
        "from collections import defaultdict, deque\n",
        "import pandas as pd\n",
        "\n",
        "# Environment constants\n",
        "ENV_SIZE = 2.0                      # Size of the 2D environment\n",
        "NUM_SERVERS = 5                    # Number of servers\n",
        "NUM_USERS = 10                     # Number of users\n",
        "SERVER_SPEEDS = np.array([10,8, 4, 2, 1])  # Server processing speeds\n",
        "SLOT_DURATION = 5                # Time slot duration in seconds"
      ],
      "metadata": {
        "id": "VZi7K0OyuPcR"
      },
      "execution_count": 10,
      "outputs": []
    },
    {
      "cell_type": "code",
      "source": [
        "# === Utility Functions ===\n",
        "\n",
        "def generate_positions():\n",
        "    \"\"\"Randomly generate server and user positions.\"\"\"\n",
        "    servers_pos = np.random.uniform(0, ENV_SIZE, size=(NUM_SERVERS, 2))\n",
        "    users_pos = np.random.uniform(0, ENV_SIZE, size=(NUM_USERS, 2))\n",
        "    return servers_pos, users_pos\n",
        "\n",
        "def compute_preferences(users_pos, servers_pos, server_speeds):\n",
        "    \"\"\"\n",
        "    Compute preference rankings:\n",
        "    - Users prefer servers by inverse of (5/speed + distance/5)\n",
        "    - Servers prefer users by inverse of distance\n",
        "    \"\"\"\n",
        "    dist_matrix = cdist(users_pos, servers_pos)\n",
        "    user_pref_scores = 1.0 / ((5.0 / server_speeds) + dist_matrix / 5.0)\n",
        "    server_pref_scores = 1.0 / dist_matrix.T\n",
        "    user_preferences = np.argsort(-user_pref_scores, axis=1)\n",
        "    server_preferences = np.argsort(-server_pref_scores, axis=1)\n",
        "    return dist_matrix, user_preferences, server_preferences\n",
        "\n",
        "def generate_workloads(num_users, distribution='exponential'):\n",
        "    \"\"\"Generate random workloads for users' tasks.\"\"\"\n",
        "    if distribution == 'exponential':\n",
        "        return np.random.exponential(scale=5.0, size=num_users)\n",
        "    elif distribution == 'uniform':\n",
        "        return np.random.uniform(0, 10, size=num_users)\n",
        "    else:\n",
        "        raise ValueError(\"Invalid distribution\")"
      ],
      "metadata": {
        "id": "dW51qpJ_uS96"
      },
      "execution_count": 2,
      "outputs": []
    },
    {
      "cell_type": "code",
      "source": [
        "# === Stable Matching ===\n",
        "\n",
        "def many_to_one_stable_matching(user_prefs, server_prefs, server_capacity):\n",
        "    \"\"\"Gale-Shapley stable matching with capacity constraint.\"\"\"\n",
        "    num_users, num_servers = user_prefs.shape\n",
        "    free_users = deque(range(num_users))                             # all users start free\n",
        "    proposals = np.zeros((num_users, num_servers), dtype=bool)       # keep track of proposals\n",
        "    server_matches = defaultdict(list)                               # who is matched to which server\n",
        "\n",
        "    # Server rank map for quick preference lookup\n",
        "    server_rank = np.full((num_servers, num_users), np.inf)          # ranks of users for servers\n",
        "    for s in range(num_servers):\n",
        "        for rank, u in enumerate(server_prefs[s]):\n",
        "            server_rank[s, u] = rank\n",
        "\n",
        "    # Proposal loop\n",
        "    while free_users:\n",
        "        u = free_users.popleft()\n",
        "        for s in user_prefs[u]:\n",
        "            if not proposals[u, s]:\n",
        "                proposals[u, s] = True\n",
        "                server_matches[s].append(u)\n",
        "                break\n",
        "\n",
        "        # Enforce server capacity\n",
        "        for s in range(num_servers):\n",
        "            current_users = server_matches[s]\n",
        "            if len(current_users) > server_capacity[s]:\n",
        "                sorted_users = sorted(current_users, key=lambda x: server_rank[s, x])\n",
        "                server_matches[s] = sorted_users[:server_capacity[s]]\n",
        "                for rej in sorted_users[server_capacity[s]:]:\n",
        "                    free_users.append(rej)\n",
        "\n",
        "    return server_matches"
      ],
      "metadata": {
        "id": "ZXwwOUv_ualH"
      },
      "execution_count": 3,
      "outputs": []
    },
    {
      "cell_type": "code",
      "source": [
        "# === Greedy Assignment ===\n",
        "\n",
        "def greedy_assignment(dist_matrix, server_capacity):\n",
        "    \"\"\"Assign each user to their closest available server.\"\"\"\n",
        "    num_users = dist_matrix.shape[0]\n",
        "    assignments = []\n",
        "    capacity_left = server_capacity.copy()\n",
        "    for u in range(num_users):\n",
        "        nearest_servers = np.argsort(dist_matrix[u])\n",
        "        for s in nearest_servers:\n",
        "            if capacity_left[s] > 0:\n",
        "                assignments.append((u, s))\n",
        "                capacity_left[s] -= 1\n",
        "                break\n",
        "    return assignments"
      ],
      "metadata": {
        "id": "dbnzZxryubYZ"
      },
      "execution_count": 4,
      "outputs": []
    },
    {
      "cell_type": "code",
      "source": [
        "# === Simulation Function ===\n",
        "\n",
        "def simulate(env_id, num_slots=1000, distribution='exponential'):\n",
        "    servers_pos, users_pos = generate_positions()\n",
        "    dist_matrix, user_prefs, server_prefs = compute_preferences(users_pos, servers_pos, SERVER_SPEEDS)\n",
        "\n",
        "    def effective_speed(u, s):\n",
        "      return 1.0 / ((5.0 / SERVER_SPEEDS[s]) + dist_matrix[u, s] / 5.0)\n",
        "\n",
        "    # Task queues hold (remaining_work, original_work)\n",
        "    server_tasks_stable = [[] for _ in range(NUM_SERVERS)]\n",
        "    server_tasks_greedy = [[] for _ in range(NUM_SERVERS)]\n",
        "\n",
        "    stable_times = []\n",
        "    greedy_times = []\n",
        "\n",
        "    for _ in range(num_slots):\n",
        "        workloads = generate_workloads(NUM_USERS, distribution)\n",
        "\n",
        "        # === STABLE Matching ===\n",
        "        capacity_stable = []\n",
        "        for s in range(NUM_SERVERS):\n",
        "            updated = []\n",
        "            for rem, orig, u in server_tasks_stable[s]:\n",
        "                v = effective_speed(u, s)\n",
        "                new_remain = rem - v * SLOT_DURATION\n",
        "                if new_remain > 0:\n",
        "                    updated.append((new_remain, orig, u))\n",
        "                else:\n",
        "                    stable_times.append(orig / v)\n",
        "            server_tasks_stable[s] = updated\n",
        "            capacity_stable.append(max(0, 2 - len(server_tasks_stable[s])))\n",
        "\n",
        "        matching = many_to_one_stable_matching(user_prefs, server_prefs, np.array(capacity_stable))\n",
        "        for s, users in matching.items():\n",
        "            for u in users:\n",
        "                server_tasks_stable[s].append((workloads[u], workloads[u], u))\n",
        "\n",
        "        # === GREEDY Assignment ===\n",
        "        capacity_greedy = []\n",
        "        for s in range(NUM_SERVERS):\n",
        "            updated = []\n",
        "            for rem, orig, u in server_tasks_greedy[s]:\n",
        "                v = effective_speed(u, s)\n",
        "                new_remain = rem - v * SLOT_DURATION\n",
        "                if new_remain > 0:\n",
        "                    updated.append((new_remain, orig, u))\n",
        "                else:\n",
        "                    greedy_times.append(orig / v)\n",
        "            server_tasks_greedy[s] = updated\n",
        "            capacity_greedy.append(max(0, 2 - len(server_tasks_greedy[s])))\n",
        "\n",
        "        assignments = greedy_assignment(dist_matrix, np.array(capacity_greedy))\n",
        "        for u, s in assignments:\n",
        "            server_tasks_greedy[s].append((workloads[u], workloads[u], u))\n",
        "\n",
        "    return {\n",
        "        \"env_id\": env_id,\n",
        "        \"stable_avg\": np.mean(stable_times),\n",
        "        \"greedy_avg\": np.mean(greedy_times),\n",
        "        \"stable_total\": len(stable_times)/num_slots,\n",
        "        \"greedy_total\": len(greedy_times)/num_slots,\n",
        "    }\n"
      ],
      "metadata": {
        "id": "nqDnHJtx5Nik"
      },
      "execution_count": 5,
      "outputs": []
    },
    {
      "cell_type": "code",
      "source": [
        "# === Run Single Environment Simulation ===\n",
        "\n",
        "results = simulate(env_id=1)\n",
        "print(\"Label:\")\n",
        "print(results)\n"
      ],
      "metadata": {
        "colab": {
          "base_uri": "https://localhost:8080/"
        },
        "id": "yNrkcLeht8G7",
        "outputId": "76476b89-c8f8-478d-ffff-e5de20cf1615"
      },
      "execution_count": 6,
      "outputs": [
        {
          "output_type": "stream",
          "name": "stdout",
          "text": [
            "Label:\n",
            "{'env_id': 1, 'stable_avg': np.float64(5.543839814592367), 'greedy_avg': np.float64(5.875026475669818), 'stable_total': 1.628, 'greedy_total': 1.556}\n"
          ]
        }
      ]
    },
    {
      "cell_type": "code",
      "source": [
        "# Run simulation for 10 different random environments and average the results\n",
        "all_results = []\n",
        "\n",
        "for env_id in range(1, 11):\n",
        "    result = simulate(env_id=env_id, num_slots=10000, distribution='uniform')\n",
        "    all_results.append(result)\n",
        "\n",
        "# Convert to DataFrame and compute averages\n",
        "results_df = pd.DataFrame(all_results)\n",
        "avg_summary = pd.DataFrame({\n",
        "    \"Metric\": [\"Average Stable Completion Time\", \"Average Greedy Completion Time\",\n",
        "               \"Average Stable Task Count\", \"Average Greedy Task Count\"],\n",
        "    \"Value\": [\n",
        "        results_df[\"stable_avg\"].mean(),\n",
        "        results_df[\"greedy_avg\"].mean(),\n",
        "        results_df[\"stable_total\"].mean(),\n",
        "        results_df[\"greedy_total\"].mean()\n",
        "    ]\n",
        "})\n",
        "\n",
        "# Show full simulation results\n",
        "print(\"=== Summary of 10 Environment Simulation ===\")\n",
        "print(results_df)\n",
        "\n",
        "print(\"\\n=== Averaged Metrics (uni dist) ===\")\n",
        "print(avg_summary)"
      ],
      "metadata": {
        "colab": {
          "base_uri": "https://localhost:8080/"
        },
        "id": "OokVjuBq79yN",
        "outputId": "8b66e82f-edef-480c-8d9e-51866fa36100"
      },
      "execution_count": 14,
      "outputs": [
        {
          "output_type": "stream",
          "name": "stdout",
          "text": [
            "=== Summary of 10 Environment Simulation ===\n",
            "   env_id  stable_avg  greedy_avg  stable_total  greedy_total\n",
            "0       1    6.668416    7.434282        5.3016        4.9142\n",
            "1       2    6.487840    6.894560        5.4152        5.1895\n",
            "2       3    6.441990    6.737801        5.4559        5.2746\n",
            "3       4    6.955204    7.481223        5.1205        4.9000\n",
            "4       5    7.223587    7.436611        4.9942        4.9064\n",
            "5       6    6.466334    6.986330        5.4172        5.1093\n",
            "6       7    6.643196    7.150195        5.3015        5.0330\n",
            "7       8    6.404035    6.796236        5.4698        5.2322\n",
            "8       9    6.649597    7.035909        5.3166        5.0961\n",
            "9      10    6.432680    6.740961        5.4377        5.2466\n",
            "\n",
            "=== Averaged Metrics (uni dist) ===\n",
            "                           Metric     Value\n",
            "0  Average Stable Completion Time  6.637288\n",
            "1  Average Greedy Completion Time  7.069411\n",
            "2       Average Stable Task Count  5.323020\n",
            "3       Average Greedy Task Count  5.090190\n"
          ]
        }
      ]
    }
  ]
}